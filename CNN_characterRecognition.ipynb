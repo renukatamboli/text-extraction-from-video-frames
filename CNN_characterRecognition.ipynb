{
 "cells": [
  {
   "cell_type": "code",
   "execution_count": 37,
   "metadata": {},
   "outputs": [],
   "source": [
    "import matplotlib.pyplot as plt\n",
    "import tensorflow as tf\n",
    "import numpy as np\n",
    "import pandas as pd\n",
    "import os, sys\n",
    "import cv2\n",
    "from tensorflow.keras.models import Sequential,load_model\n",
    "from tensorflow.keras.datasets import mnist\n",
    "from tensorflow.keras.layers import Dense,Dropout,Activation,Flatten,Conv2D,MaxPooling2D\n",
    "from tensorflow.keras.utils import to_categorical"
   ]
  },
  {
   "cell_type": "code",
   "execution_count": 38,
   "metadata": {},
   "outputs": [],
   "source": [
    "import numpy as np\n",
    "import matplotlib.pyplot as plt\n",
    "import os\n",
    "import cv2\n",
    "DATADIR = \"/home/renuka/Desktop/english-typed-alphabets-and-numbers-dataset/English/Fnt/\"\n",
    "categories = [\"0\",\"1\",\"2\",\"3\",\"4\",\"5\",\"6\",\"7\",\"8\",\"9\",\n",
    "              \"A\",\"a\",\"B\",\"b\",\"c\",\"D\",\"d\",\"E\",\"e\",\"F\",\"f\",\"G\",\"g\",\"H\",\"h\",\"I\",\"i\",\"j\",\"k\",\"L\",\"l\",\"M\",\n",
    "              \"m\",\"N\",\"n\",\"o\",\"p\",\"Q\",\"q\",\"R\",\"r\",\"s\",\"T\",\"t\",\"U\",\"u\",\"v\",\"w\",\"x\",\"Y\",\"y\",\n",
    "              \"z\",\"forward slash\",\"#\",\",\",\"$\",\"&\",\"%\",\"^\",\"+\",\"?\",\"non_char\"\n",
    "             ]"
   ]
  },
  {
   "cell_type": "code",
   "execution_count": 39,
   "metadata": {},
   "outputs": [],
   "source": [
    "import pickle\n",
    "x = pickle.load(open(\"x.pickle\",\"rb\"))\n",
    "y = pickle.load(open(\"y.pickle\",\"rb\"))\n",
    "x = x/255.0"
   ]
  },
  {
   "cell_type": "code",
   "execution_count": 40,
   "metadata": {},
   "outputs": [],
   "source": [
    "from tensorflow.keras.utils import to_categorical\n",
    "y = to_categorical(y)"
   ]
  },
  {
   "cell_type": "code",
   "execution_count": 50,
   "metadata": {},
   "outputs": [],
   "source": [
    "train=x[:15500]\n",
    "test=x[15600:]\n",
    "#print(len(Y))\n",
    "y_train=y[:15500]\n",
    "y_test=y[15500:]\n",
    "#print(len(y_test))\n",
    "\n",
    "trainData = train.astype(\"float32\")\n",
    "testData = test.astype(\"float32\")\n"
   ]
  },
  {
   "cell_type": "code",
   "execution_count": 68,
   "metadata": {},
   "outputs": [
    {
     "name": "stdout",
     "output_type": "stream",
     "text": [
      "Train on 15500 samples, validate on 241 samples\n",
      "Epoch 1/8\n",
      "15500/15500 [==============================] - 42s 3ms/sample - loss: 2.0550 - acc: 0.5675 - val_loss: 1.2246 - val_acc: 0.7261\n",
      "Epoch 2/8\n",
      "15500/15500 [==============================] - 44s 3ms/sample - loss: 0.9444 - acc: 0.7774 - val_loss: 0.7685 - val_acc: 0.8050\n",
      "Epoch 3/8\n",
      "15500/15500 [==============================] - 43s 3ms/sample - loss: 0.6250 - acc: 0.8360 - val_loss: 0.5800 - val_acc: 0.8506\n",
      "Epoch 4/8\n",
      "15500/15500 [==============================] - 47s 3ms/sample - loss: 0.4842 - acc: 0.8625 - val_loss: 0.5220 - val_acc: 0.8589\n",
      "Epoch 5/8\n",
      "15500/15500 [==============================] - 45s 3ms/sample - loss: 0.3999 - acc: 0.8821 - val_loss: 0.4338 - val_acc: 0.8963\n",
      "Epoch 6/8\n",
      "15500/15500 [==============================] - 45s 3ms/sample - loss: 0.3498 - acc: 0.8931 - val_loss: 0.4201 - val_acc: 0.8921\n",
      "Epoch 7/8\n",
      "15500/15500 [==============================] - 45s 3ms/sample - loss: 0.3144 - acc: 0.9005 - val_loss: 0.3868 - val_acc: 0.9004\n",
      "Epoch 8/8\n",
      "15500/15500 [==============================] - 45s 3ms/sample - loss: 0.2998 - acc: 0.9022 - val_loss: 0.4375 - val_acc: 0.9046\n"
     ]
    }
   ],
   "source": [
    "model = Sequential()\n",
    "model.add(Conv2D(40, (5, 5), input_shape=(50, 50,1), activation='relu'))\n",
    "model.add(MaxPooling2D(pool_size=(2, 2)))\n",
    "model.add(Conv2D(25, (5, 5), activation='relu'))\n",
    "model.add(MaxPooling2D(pool_size=(2, 2)))\n",
    "model.add(Dropout(0.2))\n",
    "model.add(Flatten())\n",
    "model.add(Dense(128, activation='relu'))\n",
    "model.add(Dense(50, activation='relu'))\n",
    "model.add(Dense(62, activation='softmax'))\n",
    "# Compile model\n",
    "model.compile(loss='categorical_crossentropy', optimizer='adam', metrics=['accuracy'])\n",
    "\n",
    "model.fit(trainData, y_train, validation_data =(testData, y_test), epochs=8, batch_size=200)\n",
    "# Final evaluation of the model\n",
    "scores = model.evaluate(testData, y_test, verbose=0)\n",
    "#print(\"Large CNN Error: %.2f%%\" % (100-scores[1]*100))"
   ]
  },
  {
   "cell_type": "code",
   "execution_count": 69,
   "metadata": {},
   "outputs": [],
   "source": [
    "model.save(\"sample.model\")"
   ]
  },
  {
   "cell_type": "code",
   "execution_count": 75,
   "metadata": {},
   "outputs": [
    {
     "name": "stdout",
     "output_type": "stream",
     "text": [
      "predicted character - m\n",
      "predicted character - t\n",
      "predicted character - non_char\n",
      "predicted character - e\n"
     ]
    },
    {
     "data": {
      "image/png": "[encoded data removed]",
      "text/plain": [
       "<Figure size 432x288 with 4 Axes>"
      ]
     },
     "metadata": {
      "needs_background": "light"
     },
     "output_type": "display_data"
    }
   ],
   "source": [
    "import matplotlib.pyplot as plt\n",
    "\n",
    "\n",
    "test_images = testData[58:62]\n",
    "\n",
    "\n",
    "test_images = test_images.reshape(test_images.shape[0], 50, 50)\n",
    "#print(\"[test images shape - {}\".format(test_images.shape))\n",
    "\n",
    "for i, test_image in enumerate(test_images, start=1):\n",
    "    \n",
    "    org_image = test_image\n",
    "\n",
    "    \n",
    "    test_image = test_image.reshape(-1,50,50,1)\n",
    "\n",
    "    \n",
    "    prediction = model.predict_classes(test_image, verbose=0)\n",
    "\n",
    "    \n",
    "    print('predicted character - {}'.format(categories[prediction[0]]))\n",
    "    plt.subplot(220+i)\n",
    "    plt.imshow(org_image, cmap=plt.get_cmap('gray'))\n",
    "\n",
    "plt.show()"
   ]
  },
  {
   "cell_type": "code",
   "execution_count": 22,
   "metadata": {},
   "outputs": [],
   "source": [
    "#from keras.models import load_model\n",
    "model = load_model(\"sample.model\")"
   ]
  },
  {
   "cell_type": "code",
   "execution_count": 40,
   "metadata": {},
   "outputs": [
    {
     "name": "stdout",
     "output_type": "stream",
     "text": [
      "m\n"
     ]
    }
   ],
   "source": [
    "img_array = cv2.imread(\"/home/renuka/Desktop/output/chars/3.png\",cv2.IMREAD_GRAYSCALE)\n",
    "new_array = cv2.resize(img_array,(70,70))\n",
    "test_image = new_array.reshape(-1,70,70,1)\n",
    "prediction = model.predict_classes(test_image, verbose=0)\n",
    "print('{}'.format(categories[prediction[0]]))"
   ]
  },
  {
   "cell_type": "code",
   "execution_count": 55,
   "metadata": {},
   "outputs": [
    {
     "name": "stdout",
     "output_type": "stream",
     "text": [
      "3202g.png=x\n",
      "37M.png=q\n",
      "14M.png=n\n",
      "15812.png=G\n",
      "42M.png=u\n",
      "4007g.png=L\n",
      "5781.png=i\n"
     ]
    }
   ],
   "source": [
    "path = \"/home/renuka/Desktop/output/chars/\"\n",
    "f = open('text','a+') \n",
    "#for folder in os.listdir(path):\n",
    "#    for word in os.listdir(os.path.join(path,folder)):\n",
    "for char in os.listdir(path):\n",
    "    img_array = cv2.imread(os.path.join(path,char),cv2.IMREAD_GRAYSCALE)\n",
    "    if img_array is not None:\n",
    "        new_array = cv2.resize(img_array,(70,70))\n",
    "        test_image = new_array.reshape(-1,70,70,1)\n",
    "        prediction = model.predict_classes(test_image, verbose=0)\n",
    "        f.write(categories[prediction[0]])\n",
    "        print(str(char)+\"=\"+'{}'.format(categories[prediction[0]]))\n",
    "        #f.write(\" \")\n",
    "    #f.write(\"\\n\")\n",
    "f.close()"
   ]
  }
 ],
 "metadata": {
  "kernelspec": {
   "display_name": "Python 3",
   "language": "python",
   "name": "python3"
  },
  "language_info": {
   "codemirror_mode": {
    "name": "ipython",
    "version": 3
   },
   "file_extension": ".py",
   "mimetype": "text/x-python",
   "name": "python",
   "nbconvert_exporter": "python",
   "pygments_lexer": "ipython3",
   "version": "3.6.8"
  }
 },
 "nbformat": 4,
 "nbformat_minor": 2
}
